{
 "cells": [
  {
   "cell_type": "code",
   "execution_count": 8,
   "metadata": {},
   "outputs": [],
   "source": [
    "import torch\n",
    "from torch import nn\n",
    "from torch import optim\n",
    "from torchvision import datasets, transforms\n",
    "from torch.utils.data import random_split, DataLoader"
   ]
  },
  {
   "cell_type": "code",
   "execution_count": 2,
   "metadata": {},
   "outputs": [],
   "source": [
    "# model architecture\n",
    "model = nn.Sequential(\n",
    "  nn.Linear(28*28, 64),\n",
    "  nn.ReLU(),\n",
    "  nn.Linear(64, 64),\n",
    "  nn.ReLU(),\n",
    "  nn.Linear(64, 10)\n",
    ")"
   ]
  },
  {
   "cell_type": "code",
   "execution_count": 5,
   "metadata": {},
   "outputs": [],
   "source": [
    "# learning optimizer (defines how to take steps)\n",
    "optimizer = optim.SGD(model.parameters(), lr=1e-2)"
   ]
  },
  {
   "cell_type": "code",
   "execution_count": 6,
   "metadata": {},
   "outputs": [],
   "source": [
    "# loss fn for classification\n",
    "loss = nn.CrossEntropyLoss()"
   ]
  },
  {
   "cell_type": "code",
   "execution_count": 11,
   "metadata": {},
   "outputs": [],
   "source": [
    "# data\n",
    "train_data = datasets.MNIST('data', train=True, download=True, transform=transforms.ToTensor())\n",
    "train, val = random_split(train_data, [55000, 5000])\n",
    "train_loader = DataLoader(train, batch_size=32)\n",
    "val_loader = DataLoader(val, batch_size=32)"
   ]
  },
  {
   "cell_type": "code",
   "execution_count": 12,
   "metadata": {},
   "outputs": [
    {
     "name": "stdout",
     "output_type": "stream",
     "text": [
      "Epoch 1, training loss: 1.25\n",
      "Epoch 1, validation loss: 0.47\n",
      "Epoch 2, training loss: 0.41\n",
      "Epoch 2, validation loss: 0.33\n",
      "Epoch 3, training loss: 0.33\n",
      "Epoch 3, validation loss: 0.29\n",
      "Epoch 4, training loss: 0.29\n",
      "Epoch 4, validation loss: 0.26\n",
      "Epoch 5, training loss: 0.26\n",
      "Epoch 5, validation loss: 0.23\n"
     ]
    }
   ],
   "source": [
    "# training loops\n",
    "epochs = 5\n",
    "for epoch in range(epochs):\n",
    "  losses = []\n",
    "  for batch in train_loader:\n",
    "    x, y = batch\n",
    "\n",
    "    b = x.size(0)\n",
    "    x = x.view(b, -1)\n",
    "\n",
    "    # forward\n",
    "    logits = model(x)\n",
    "\n",
    "    # objective fn\n",
    "    J = loss(logits, y)\n",
    "\n",
    "    # clean gradients\n",
    "    model.zero_grad()\n",
    "\n",
    "    # backward\n",
    "    J.backward()\n",
    "\n",
    "    # step opposite gradient (minimize loss)\n",
    "    optimizer.step()\n",
    "    losses.append(J.item())\n",
    "\n",
    "    # see updates\n",
    "  print(f\"Epoch {epoch + 1}, training loss: {torch.tensor(losses).mean():.2f}\")\n",
    "\n",
    "  losses = []\n",
    "  for batch in val_loader:\n",
    "    x, y = batch\n",
    "\n",
    "    b = x.size(0)\n",
    "    x = x.view(b, -1)\n",
    "\n",
    "    # forward\n",
    "    with torch.no_grad():\n",
    "      logits = model(x)\n",
    "\n",
    "    # objective fn\n",
    "    J = loss(logits, y)\n",
    "\n",
    "    losses.append(J.item())\n",
    "  print(f\"Epoch {epoch + 1}, validation loss: {torch.tensor(losses).mean():.2f}\")\n",
    "  "
   ]
  }
 ],
 "metadata": {
  "kernelspec": {
   "display_name": "base",
   "language": "python",
   "name": "python3"
  },
  "language_info": {
   "codemirror_mode": {
    "name": "ipython",
    "version": 3
   },
   "file_extension": ".py",
   "mimetype": "text/x-python",
   "name": "python",
   "nbconvert_exporter": "python",
   "pygments_lexer": "ipython3",
   "version": "3.9.17"
  }
 },
 "nbformat": 4,
 "nbformat_minor": 2
}
