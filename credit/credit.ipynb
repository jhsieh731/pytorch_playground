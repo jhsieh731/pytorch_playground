{
 "cells": [
  {
   "cell_type": "code",
   "execution_count": 2,
   "metadata": {},
   "outputs": [],
   "source": [
    "import pandas as pd\n",
    "import numpy as np\n",
    "import torch\n",
    "import sklearn"
   ]
  },
  {
   "attachments": {},
   "cell_type": "markdown",
   "metadata": {},
   "source": [
    "### Importing data"
   ]
  },
  {
   "cell_type": "code",
   "execution_count": 1,
   "metadata": {},
   "outputs": [
    {
     "ename": "NameError",
     "evalue": "name 'pd' is not defined",
     "output_type": "error",
     "traceback": [
      "\u001b[1;31m---------------------------------------------------------------------------\u001b[0m",
      "\u001b[1;31mNameError\u001b[0m                                 Traceback (most recent call last)",
      "Cell \u001b[1;32mIn[1], line 4\u001b[0m\n\u001b[0;32m      1\u001b[0m \u001b[39mfrom\u001b[39;00m \u001b[39msklearn\u001b[39;00m\u001b[39m.\u001b[39;00m\u001b[39mmodel_selection\u001b[39;00m \u001b[39mimport\u001b[39;00m train_test_split\n\u001b[0;32m      3\u001b[0m \u001b[39m#Read in data\u001b[39;00m\n\u001b[1;32m----> 4\u001b[0m train \u001b[39m=\u001b[39m pd\u001b[39m.\u001b[39mread_csv(\u001b[39m'\u001b[39m\u001b[39mdata/train.csv\u001b[39m\u001b[39m'\u001b[39m)\n\u001b[0;32m      5\u001b[0m \u001b[39m#Remove any rows with missing values\u001b[39;00m\n\u001b[0;32m      6\u001b[0m df \u001b[39m=\u001b[39m train\u001b[39m.\u001b[39mdropna(axis\u001b[39m=\u001b[39m\u001b[39m0\u001b[39m, how\u001b[39m=\u001b[39m\u001b[39m'\u001b[39m\u001b[39many\u001b[39m\u001b[39m'\u001b[39m) \u001b[39m# figure out how to bootstrap\u001b[39;00m\n",
      "\u001b[1;31mNameError\u001b[0m: name 'pd' is not defined"
     ]
    }
   ],
   "source": [
    "from sklearn.model_selection import train_test_split\n",
    "\n",
    "#Read in data\n",
    "train = pd.read_csv('data/train.csv')\n",
    "#Remove any rows with missing values\n",
    "df = train.dropna(axis=0, how='any') # figure out how to bootstrap\n",
    "#Drop columns\n",
    "df = df.drop(['ID', 'Customer_ID', 'Month', 'Name', 'SSN','Num_Credit_Inquiries', 'Payment_Behaviour'], axis=1)\n",
    "df.loc[df['Occupation'] == '_______', 'Occupation'] = 'N/A'\n",
    "\n",
    "#Removing extra underscores from columns\n",
    "df['Age'] = df['Age'].str.replace('_', '')\n",
    "df['Annual_Income'] = df['Annual_Income'].str.replace('_', '')\n",
    "df['Num_of_Loan'] = df['Num_of_Loan'].str.replace('_', '')\n",
    "df['Num_of_Delayed_Payment'] = df['Num_of_Delayed_Payment'].str.replace('_', '')\n",
    "df['Outstanding_Debt'] = df['Outstanding_Debt'].str.replace('_', '')\n",
    "df['Amount_invested_monthly'] = df['Amount_invested_monthly'].str.replace('_', '')\n",
    "df['Monthly_Balance'] = df['Monthly_Balance'].str.replace('_', '')\n",
    "\n",
    "df.Occupation.unique()\n",
    "\n",
    "#Get columns ready to encode\n",
    "encoding_columns = ['Occupation', 'Type_of_Loan', 'Credit_Mix', 'Payment_of_Min_Amount']\n",
    "data_to_encode = df[encoding_columns]\n",
    "\n",
    "\n",
    "#Creating a OneHotEncoder   \n",
    "ohe = sklearn.preprocessing.OneHotEncoder()\n",
    "\n",
    "ohe.fit(data_to_encode)\n",
    "encoded = ohe.transform(data_to_encode)\n",
    "\n",
    "#Get feature names\n",
    "feature_names = ohe.get_feature_names_out(input_features=encoding_columns)\n",
    "ohe_df = pd.DataFrame.sparse.from_spmatrix(encoded, columns=feature_names)\n",
    "\n",
    " \n",
    "encoded_df = pd.DataFrame(encoded.toarray(), columns=feature_names)\n",
    "\n",
    "final_df = pd.concat([df.drop(encoding_columns, axis=1), encoded_df], axis=1)\n",
    "\n",
    "print(final_df)\n",
    "print(final_df.shape)\n",
    "#Change variable types of columns\n",
    "#df = df.astype({'Age': int, 'Occupation': 'string', 'Annual_Income' : float, 'Num_of_Loan': int, 'Type_of_Loan': 'string', 'Num_of_Delayed_Payment': int, 'Outstanding_Debt': float, 'Credit_Mix': 'string', 'Amount_invested_monthly': float, 'Monthly_Balance': float})\n",
    "\n",
    "#x = encoded_df.drop(['Credit_Score'], axis=1).values\n",
    "#y = encoded_df['Credit_Score'].values\n",
    "\n",
    "#x_train, x_test, y_train, y_test = train_test_split(x, y, test_size=0.3, train_size=0.7)\n"
   ]
  },
  {
   "attachments": {},
   "cell_type": "markdown",
   "metadata": {},
   "source": [
    "### Decision Tree"
   ]
  },
  {
   "cell_type": "code",
   "execution_count": null,
   "metadata": {},
   "outputs": [],
   "source": [
    "from sklearn import tree, metrics\n",
    "import seaborn as sns \n",
    "import matplotlib.pyplot as plt\n",
    "\n",
    "# makes a decision tree using x/y train data\n",
    "dtc = tree.DecisionTreeClassifier().fit(x_train, y_train)\n",
    "\n",
    "# use model for pred\n",
    "y_pred_dtc = dtc.predict(x_test)\n",
    "\n",
    "# getting statistics\n",
    "accuracy = metrics.accuracy_score(y_test, y_pred_dtc)\n",
    "precision = metrics.precision_score(y_test, y_pred_dtc)\n",
    "recall = metrics.recall_score(y_test, y_pred_dtc)\n",
    "f1 = metrics.f1_score(y_test, y_pred_dtc)\n",
    "cm = metrics.confusion_matrix(y_test, y_pred_dtc)\n",
    "\n",
    "print(f'accuracy : {accuracy}')\n",
    "print(f'precision : {precision}')\n",
    "print(f'recall : {recall}')\n",
    "print(f'f1 : {f1}')\n",
    "print(cm)\n",
    "\n",
    "\n",
    "\n"
   ]
  },
  {
   "cell_type": "code",
   "execution_count": null,
   "metadata": {},
   "outputs": [],
   "source": []
  }
 ],
 "metadata": {
  "kernelspec": {
   "display_name": "base",
   "language": "python",
   "name": "python3"
  },
  "language_info": {
   "codemirror_mode": {
    "name": "ipython",
    "version": 3
   },
   "file_extension": ".py",
   "mimetype": "text/x-python",
   "name": "python",
   "nbconvert_exporter": "python",
   "pygments_lexer": "ipython3",
   "version": "3.10.9"
  },
  "orig_nbformat": 4
 },
 "nbformat": 4,
 "nbformat_minor": 2
}
